{
 "cells": [
  {
   "cell_type": "markdown",
   "metadata": {},
   "source": [
    "### Making CSV to have a look\n",
    "\n",
    "```\n",
    "$ cd src\n",
    "$ ipython3 ../scripts/make_csv.py ir ../data/sample/m150_ir.p ../data/sample/m150_ir.csv\n",
    "$ ipython3 ../scripts/make_csv.py nmr ../data/sample/m150_nmr.p ../data/sample/m150_nmr.csv\n",
    "```"
   ]
  },
  {
   "cell_type": "markdown",
   "metadata": {},
   "source": [
    "### Making fingerprints\n",
    "\n",
    "Trying to evenly divide the bins. Specify the numbers of bins of ir and nmr data.\n",
    "\n",
    "Maybe specify the positions to make fingerprints? Or specify the width of each bin?"
   ]
  },
  {
   "cell_type": "code",
   "execution_count": 1,
   "metadata": {},
   "outputs": [],
   "source": [
    "import sys, os\n",
    "sys.path.append(os.path.abspath('../src'))"
   ]
  },
  {
   "cell_type": "code",
   "execution_count": 2,
   "metadata": {},
   "outputs": [],
   "source": [
    "from chemspace import Fingerprints, load_data, NMRVector, IRVector"
   ]
  },
  {
   "cell_type": "code",
   "execution_count": 3,
   "metadata": {},
   "outputs": [],
   "source": [
    "nmr, ir = load_data('../rawdata/sample/nmr_data/150.042927432_vectors.p', '../rawdata/sample/ir_data/loader.p')"
   ]
  },
  {
   "cell_type": "code",
   "execution_count": 4,
   "metadata": {},
   "outputs": [
    {
     "name": "stdout",
     "output_type": "stream",
     "text": [
      "N#CCC1OCc2cnoc21\n"
     ]
    }
   ],
   "source": [
    "sample_nmr = NMRVector.from_old(nmr[0])\n",
    "sample_smiles = sample_nmr.smiles\n",
    "sample_ir = IRVector.from_old(ir, sample_smiles)\n",
    "print(sample_smiles)"
   ]
  },
  {
   "cell_type": "code",
   "execution_count": 5,
   "metadata": {},
   "outputs": [],
   "source": [
    "sample_fingerprints = Fingerprints(sample_nmr, sample_ir)"
   ]
  },
  {
   "cell_type": "code",
   "execution_count": 9,
   "metadata": {},
   "outputs": [
    {
     "data": {
      "text/plain": [
       "[(182, 0.18294444444444447),\n",
       " (272, 0.27216666666666667),\n",
       " (277, 0.2775),\n",
       " (303, 0.30394444444444446),\n",
       " (399, 0.3993333333333333),\n",
       " (622, 7.8562115384615385),\n",
       " (627, 8.205788461538463),\n",
       " (640, 9.092769230769232),\n",
       " (652, 9.876826923076923),\n",
       " (664, 10.650740384615384),\n",
       " (690, 12.421942307692309),\n",
       " (699, 13.033942307692307),\n",
       " (715, 14.08689423076923),\n",
       " (923, 28.015846153846155),\n",
       " (924, 28.081105769230767),\n",
       " (928, 28.368182692307695)]"
      ]
     },
     "execution_count": 9,
     "metadata": {},
     "output_type": "execute_result"
    }
   ],
   "source": [
    "[x for x in enumerate(sample_fingerprints.data) if x[1] > 0]"
   ]
  },
  {
   "cell_type": "code",
   "execution_count": 10,
   "metadata": {},
   "outputs": [],
   "source": [
    "nmr_vectors = [NMRVector.from_old(x) for x in nmr]\n",
    "ir_vectors = [IRVector.from_old(ir, x.smiles) for x in nmr_vectors if x.smiles in ir.data]"
   ]
  },
  {
   "cell_type": "code",
   "execution_count": 11,
   "metadata": {},
   "outputs": [
    {
     "name": "stdout",
     "output_type": "stream",
     "text": [
      "1305 1297\n"
     ]
    }
   ],
   "source": [
    "print(len(nmr_vectors), len(ir_vectors))"
   ]
  },
  {
   "cell_type": "code",
   "execution_count": 12,
   "metadata": {},
   "outputs": [],
   "source": [
    "nmr_vectors = [x for x in nmr_vectors if x.smiles in ir.data]"
   ]
  },
  {
   "cell_type": "code",
   "execution_count": 16,
   "metadata": {},
   "outputs": [],
   "source": [
    "assert all(nmr.smiles == ir.smiles for nmr, ir in zip(nmr_vectors, ir_vectors))"
   ]
  },
  {
   "cell_type": "code",
   "execution_count": 17,
   "metadata": {},
   "outputs": [],
   "source": [
    "all_fingerprints = [Fingerprints(nmr, ir) for nmr, ir in zip(nmr_vectors, ir_vectors)]"
   ]
  },
  {
   "cell_type": "code",
   "execution_count": 21,
   "metadata": {},
   "outputs": [],
   "source": [
    "import numpy as np\n",
    "import pandas as pd"
   ]
  },
  {
   "cell_type": "code",
   "execution_count": 24,
   "metadata": {},
   "outputs": [],
   "source": [
    "df = pd.DataFrame({x.smiles: x.data for x in all_fingerprints})"
   ]
  },
  {
   "cell_type": "code",
   "execution_count": 27,
   "metadata": {},
   "outputs": [],
   "source": [
    "df.to_hdf('../data/sample/all_fingerprints.hdf5', 'r1')"
   ]
  },
  {
   "cell_type": "code",
   "execution_count": 57,
   "metadata": {},
   "outputs": [],
   "source": [
    "x1, x2 = (x.data for x in all_fingerprints[:2])"
   ]
  },
  {
   "cell_type": "code",
   "execution_count": 60,
   "metadata": {},
   "outputs": [
    {
     "name": "stdout",
     "output_type": "stream",
     "text": [
      "16 6\n",
      "22\n"
     ]
    }
   ],
   "source": [
    "nonzeros = lambda arr: [x for x in enumerate(arr) if x[1] != 0]\n",
    "print(len(nonzeros(x1)), len(nonzeros(x2)))\n",
    "x3 = x1 - x2\n",
    "print(len(nonzeros(x3)))"
   ]
  },
  {
   "cell_type": "code",
   "execution_count": 61,
   "metadata": {},
   "outputs": [
    {
     "data": {
      "text/plain": [
       "[(182, 0.18294444444444447),\n",
       " (272, 0.27216666666666667),\n",
       " (277, 0.2775),\n",
       " (303, 0.30394444444444446),\n",
       " (334, -0.6688333333333333),\n",
       " (338, -0.3383888888888889),\n",
       " (399, 0.3993333333333333),\n",
       " (442, -0.4424444444444445),\n",
       " (546, -2.787326923076923),\n",
       " (600, -6.361567307692307),\n",
       " (622, 7.8562115384615385),\n",
       " (627, 8.205788461538463),\n",
       " (640, 9.092769230769232),\n",
       " (652, 9.876826923076923),\n",
       " (664, 10.650740384615384),\n",
       " (690, 12.421942307692309),\n",
       " (699, 13.033942307692307),\n",
       " (715, 14.08689423076923),\n",
       " (752, -16.558798076923075),\n",
       " (923, 28.015846153846155),\n",
       " (924, 28.081105769230767),\n",
       " (928, 28.368182692307695)]"
      ]
     },
     "execution_count": 61,
     "metadata": {},
     "output_type": "execute_result"
    }
   ],
   "source": [
    "nonzeros(x3)"
   ]
  },
  {
   "cell_type": "code",
   "execution_count": null,
   "metadata": {},
   "outputs": [],
   "source": []
  }
 ],
 "metadata": {
  "kernelspec": {
   "display_name": "Python 3",
   "language": "python",
   "name": "python3"
  },
  "language_info": {
   "codemirror_mode": {
    "name": "ipython",
    "version": 3
   },
   "file_extension": ".py",
   "mimetype": "text/x-python",
   "name": "python",
   "nbconvert_exporter": "python",
   "pygments_lexer": "ipython3",
   "version": "3.6.6"
  }
 },
 "nbformat": 4,
 "nbformat_minor": 2
}
