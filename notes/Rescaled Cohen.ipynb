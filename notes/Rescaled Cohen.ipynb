{
 "cells": [
  {
   "cell_type": "code",
   "execution_count": 1,
   "metadata": {},
   "outputs": [],
   "source": [
    "import os, sys\n",
    "sys.path.append(os.path.abspath('../src'))\n",
    "from chemspace import Fingerprints, load_data, NMRVector, IRVector, ChemicalSpaceGraph"
   ]
  },
  {
   "cell_type": "code",
   "execution_count": 2,
   "metadata": {},
   "outputs": [
    {
     "data": {
      "text/plain": [
       "840456"
      ]
     },
     "execution_count": 2,
     "metadata": {},
     "output_type": "execute_result"
    }
   ],
   "source": [
    "graph = ChemicalSpaceGraph.from_file('../cache.h5', '../cache-cohen.p')\n",
    "len(graph.edges)"
   ]
  },
  {
   "cell_type": "code",
   "execution_count": 3,
   "metadata": {},
   "outputs": [],
   "source": [
    "import numpy as np\n",
    "import pandas as pd"
   ]
  },
  {
   "cell_type": "code",
   "execution_count": 4,
   "metadata": {},
   "outputs": [],
   "source": [
    "edges = pd.DataFrame([[a, b, graph.edges[(a, b)]] for a, b in graph.edges])"
   ]
  },
  {
   "cell_type": "code",
   "execution_count": 5,
   "metadata": {},
   "outputs": [
    {
     "data": {
      "text/html": [
       "<div>\n",
       "<style scoped>\n",
       "    .dataframe tbody tr th:only-of-type {\n",
       "        vertical-align: middle;\n",
       "    }\n",
       "\n",
       "    .dataframe tbody tr th {\n",
       "        vertical-align: top;\n",
       "    }\n",
       "\n",
       "    .dataframe thead th {\n",
       "        text-align: right;\n",
       "    }\n",
       "</style>\n",
       "<table border=\"1\" class=\"dataframe\">\n",
       "  <thead>\n",
       "    <tr style=\"text-align: right;\">\n",
       "      <th></th>\n",
       "      <th>2</th>\n",
       "    </tr>\n",
       "  </thead>\n",
       "  <tbody>\n",
       "    <tr>\n",
       "      <th>count</th>\n",
       "      <td>840456.000000</td>\n",
       "    </tr>\n",
       "    <tr>\n",
       "      <th>mean</th>\n",
       "      <td>0.036038</td>\n",
       "    </tr>\n",
       "    <tr>\n",
       "      <th>std</th>\n",
       "      <td>0.047018</td>\n",
       "    </tr>\n",
       "    <tr>\n",
       "      <th>min</th>\n",
       "      <td>-0.002443</td>\n",
       "    </tr>\n",
       "    <tr>\n",
       "      <th>25%</th>\n",
       "      <td>-0.000825</td>\n",
       "    </tr>\n",
       "    <tr>\n",
       "      <th>50%</th>\n",
       "      <td>0.025623</td>\n",
       "    </tr>\n",
       "    <tr>\n",
       "      <th>75%</th>\n",
       "      <td>0.057786</td>\n",
       "    </tr>\n",
       "    <tr>\n",
       "      <th>max</th>\n",
       "      <td>0.777699</td>\n",
       "    </tr>\n",
       "  </tbody>\n",
       "</table>\n",
       "</div>"
      ],
      "text/plain": [
       "                   2\n",
       "count  840456.000000\n",
       "mean        0.036038\n",
       "std         0.047018\n",
       "min        -0.002443\n",
       "25%        -0.000825\n",
       "50%         0.025623\n",
       "75%         0.057786\n",
       "max         0.777699"
      ]
     },
     "execution_count": 5,
     "metadata": {},
     "output_type": "execute_result"
    }
   ],
   "source": [
    "edges.describe()"
   ]
  },
  {
   "cell_type": "code",
   "execution_count": 7,
   "metadata": {},
   "outputs": [
    {
     "name": "stdout",
     "output_type": "stream",
     "text": [
      "0.05 246482\n",
      "0.15000000000000002 24981\n",
      "0.25 2774\n",
      "0.35 456\n",
      "0.45 54\n"
     ]
    }
   ],
   "source": [
    "for i in range(5):\n",
    "    t = 0.05 + i / 10\n",
    "    print(t, len(edges[edges[2] > t]))"
   ]
  },
  {
   "cell_type": "code",
   "execution_count": 8,
   "metadata": {},
   "outputs": [],
   "source": [
    "from matplotlib import pyplot as plt\n",
    "f = graph.fingerprints_df['Cn1ccc2oc(=O)cnc21']\n",
    "x = np.arange(len(f))"
   ]
  },
  {
   "cell_type": "code",
   "execution_count": 9,
   "metadata": {},
   "outputs": [
    {
     "data": {
      "text/plain": [
       "[<matplotlib.lines.Line2D at 0x1129ef04898>]"
      ]
     },
     "execution_count": 9,
     "metadata": {},
     "output_type": "execute_result"
    },
    {
     "data": {
      "image/png": "[encoded data removed]",
      "text/plain": [
       "<Figure size 432x288 with 1 Axes>"
      ]
     },
     "metadata": {
      "needs_background": "light"
     },
     "output_type": "display_data"
    }
   ],
   "source": [
    "plt.plot(x, f)"
   ]
  },
  {
   "cell_type": "code",
   "execution_count": 10,
   "metadata": {},
   "outputs": [],
   "source": [
    "from gephistreamer import graph as gephi_graph, streamer"
   ]
  },
  {
   "cell_type": "code",
   "execution_count": 16,
   "metadata": {},
   "outputs": [],
   "source": [
    "gephi_nodes = [gephi_graph.Node(x) for x in graph.nodes]"
   ]
  },
  {
   "cell_type": "code",
   "execution_count": 23,
   "metadata": {},
   "outputs": [],
   "source": [
    "def show(threshold, gephi_nodes):\n",
    "    gephi_edges_ = [\n",
    "        gephi_graph.Edge(x, y, directed=False, weight=graph.edges[(x, y)], label='%.4f' % graph.edges[(x, y)])\n",
    "        for x, y in graph.edges\n",
    "        if graph.edges[(x, y)] > threshold\n",
    "    ]\n",
    "    print(len(gephi_edges_))\n",
    "    stream = streamer.Streamer(streamer.GephiWS(workspace=str(threshold)))\n",
    "    stream.add_node(*gephi_nodes)\n",
    "    stream.add_edge(*gephi_edges_)\n",
    "    return gephi_edges_"
   ]
  },
  {
   "cell_type": "code",
   "execution_count": 24,
   "metadata": {},
   "outputs": [
    {
     "name": "stdout",
     "output_type": "stream",
     "text": [
      "2774\n"
     ]
    }
   ],
   "source": [
    "show(0.25, gephi_nodes);"
   ]
  },
  {
   "cell_type": "code",
   "execution_count": 25,
   "metadata": {},
   "outputs": [],
   "source": [
    "max_coeffs = {}\n",
    "for (x, y) in graph.edges:\n",
    "    d = graph.edges[(x, y)]\n",
    "    if max_coeffs.get(x, (0, -1))[0] < d:\n",
    "        max_coeffs[x] = (d, y)\n",
    "    if max_coeffs.get(y, (0, -1))[0] < d:\n",
    "        max_coeffs[y] = (d, x)"
   ]
  },
  {
   "cell_type": "code",
   "execution_count": 29,
   "metadata": {},
   "outputs": [
    {
     "data": {
      "text/plain": [
       "count    1297.000000\n",
       "mean        0.265232\n",
       "std         0.102332\n",
       "min         0.105431\n",
       "25%         0.186807\n",
       "50%         0.239411\n",
       "75%         0.332921\n",
       "max         0.777699\n",
       "dtype: float64"
      ]
     },
     "execution_count": 29,
     "metadata": {},
     "output_type": "execute_result"
    }
   ],
   "source": [
    "maxs = pd.Series([x[0] for x in max_coeffs.values()])\n",
    "maxs.describe()"
   ]
  },
  {
   "cell_type": "code",
   "execution_count": 28,
   "metadata": {},
   "outputs": [
    {
     "data": {
      "text/plain": [
       "1297"
      ]
     },
     "execution_count": 28,
     "metadata": {},
     "output_type": "execute_result"
    }
   ],
   "source": [
    "len(max_coeffs)"
   ]
  },
  {
   "cell_type": "code",
   "execution_count": 41,
   "metadata": {},
   "outputs": [
    {
     "name": "stdout",
     "output_type": "stream",
     "text": [
      "[('O=c1[nH]cc(-c2cc[nH]c2)o1', (0.7776986988071108, 'O=c1[nH]c(-c2cc[nH]c2)co1')), ('O=c1[nH]c(-c2cc[nH]c2)co1', (0.7776986988071108, 'O=c1[nH]cc(-c2cc[nH]c2)o1'))]\n"
     ]
    }
   ],
   "source": [
    "ms = [x for x in max_coeffs if np.abs(max_coeffs[x][0] - 0.777699) < 0.00001]\n",
    "print([(x, max_coeffs[x]) for x in ms])"
   ]
  },
  {
   "cell_type": "code",
   "execution_count": 24,
   "metadata": {},
   "outputs": [
    {
     "name": "stdout",
     "output_type": "stream",
     "text": [
      "2194\n"
     ]
    }
   ],
   "source": [
    "max_coeffs"
   ]
  },
  {
   "cell_type": "code",
   "execution_count": null,
   "metadata": {},
   "outputs": [],
   "source": []
  }
 ],
 "metadata": {
  "kernelspec": {
   "display_name": "Python 3",
   "language": "python",
   "name": "python3"
  },
  "language_info": {
   "codemirror_mode": {
    "name": "ipython",
    "version": 3
   },
   "file_extension": ".py",
   "mimetype": "text/x-python",
   "name": "python",
   "nbconvert_exporter": "python",
   "pygments_lexer": "ipython3",
   "version": "3.6.6"
  }
 },
 "nbformat": 4,
 "nbformat_minor": 2
}
