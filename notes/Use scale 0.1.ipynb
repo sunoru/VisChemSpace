{
 "cells": [
  {
   "cell_type": "code",
   "execution_count": 2,
   "metadata": {},
   "outputs": [],
   "source": [
    "import os, sys\n",
    "sys.path.append(os.path.abspath('../src'))\n",
    "from chemspace import Fingerprints, load_data, NMRVector, IRVector, ChemicalSpaceGraph\n",
    "import numpy as np\n",
    "import pandas as pd\n",
    "from matplotlib import pyplot as plt"
   ]
  },
  {
   "cell_type": "code",
   "execution_count": 3,
   "metadata": {},
   "outputs": [
    {
     "data": {
      "text/plain": [
       "840456"
      ]
     },
     "execution_count": 3,
     "metadata": {},
     "output_type": "execute_result"
    }
   ],
   "source": [
    "graph = ChemicalSpaceGraph.from_file('../cache-scaled-0.1.h5', '../cache-euclidean-scaled-0.1.p')\n",
    "len(graph.edges)"
   ]
  },
  {
   "cell_type": "code",
   "execution_count": 4,
   "metadata": {},
   "outputs": [
    {
     "data": {
      "text/html": [
       "<div>\n",
       "<style scoped>\n",
       "    .dataframe tbody tr th:only-of-type {\n",
       "        vertical-align: middle;\n",
       "    }\n",
       "\n",
       "    .dataframe tbody tr th {\n",
       "        vertical-align: top;\n",
       "    }\n",
       "\n",
       "    .dataframe thead th {\n",
       "        text-align: right;\n",
       "    }\n",
       "</style>\n",
       "<table border=\"1\" class=\"dataframe\">\n",
       "  <thead>\n",
       "    <tr style=\"text-align: right;\">\n",
       "      <th></th>\n",
       "      <th>2</th>\n",
       "    </tr>\n",
       "  </thead>\n",
       "  <tbody>\n",
       "    <tr>\n",
       "      <th>count</th>\n",
       "      <td>840456.000000</td>\n",
       "    </tr>\n",
       "    <tr>\n",
       "      <th>mean</th>\n",
       "      <td>15.235582</td>\n",
       "    </tr>\n",
       "    <tr>\n",
       "      <th>std</th>\n",
       "      <td>8.693954</td>\n",
       "    </tr>\n",
       "    <tr>\n",
       "      <th>min</th>\n",
       "      <td>0.099779</td>\n",
       "    </tr>\n",
       "    <tr>\n",
       "      <th>25%</th>\n",
       "      <td>13.034960</td>\n",
       "    </tr>\n",
       "    <tr>\n",
       "      <th>50%</th>\n",
       "      <td>14.883651</td>\n",
       "    </tr>\n",
       "    <tr>\n",
       "      <th>75%</th>\n",
       "      <td>16.798762</td>\n",
       "    </tr>\n",
       "    <tr>\n",
       "      <th>max</th>\n",
       "      <td>225.469359</td>\n",
       "    </tr>\n",
       "  </tbody>\n",
       "</table>\n",
       "</div>"
      ],
      "text/plain": [
       "                   2\n",
       "count  840456.000000\n",
       "mean       15.235582\n",
       "std         8.693954\n",
       "min         0.099779\n",
       "25%        13.034960\n",
       "50%        14.883651\n",
       "75%        16.798762\n",
       "max       225.469359"
      ]
     },
     "execution_count": 4,
     "metadata": {},
     "output_type": "execute_result"
    }
   ],
   "source": [
    "edges = pd.DataFrame([[a, b, graph.edges[(a, b)]] for a, b in graph.edges])\n",
    "edges.describe()"
   ]
  },
  {
   "cell_type": "code",
   "execution_count": 5,
   "metadata": {},
   "outputs": [
    {
     "data": {
      "text/plain": [
       "Text(0,0.5,'No. (log)')"
      ]
     },
     "execution_count": 5,
     "metadata": {},
     "output_type": "execute_result"
    },
    {
     "data": {
      "image/png": "[encoded data removed]",
      "text/plain": [
       "<Figure size 432x288 with 1 Axes>"
      ]
     },
     "metadata": {
      "needs_background": "light"
     },
     "output_type": "display_data"
    }
   ],
   "source": [
    "values = edges[2].sort_values()\n",
    "plt.plot(np.log(values), np.log(np.arange(1, 1 + len(values))))\n",
    "plt.xlabel('Euclidean Distances (log)')\n",
    "plt.ylabel('No. (log)')"
   ]
  },
  {
   "cell_type": "code",
   "execution_count": 6,
   "metadata": {},
   "outputs": [
    {
     "name": "stdout",
     "output_type": "stream",
     "text": [
      "9 14755\n",
      "8 5867\n",
      "7 2658\n",
      "6 1285\n",
      "5 691\n",
      "4 353\n",
      "3 129\n",
      "2 39\n",
      "1 5\n",
      "0 0\n",
      "-1 0\n",
      "-2 0\n",
      "-3 0\n",
      "-4 0\n",
      "-5 0\n"
     ]
    }
   ],
   "source": [
    "for i in range(15):\n",
    "    t = 9 - i\n",
    "    print(t, len(edges[edges[2] < t]))"
   ]
  },
  {
   "cell_type": "code",
   "execution_count": 8,
   "metadata": {},
   "outputs": [],
   "source": [
    "from gephistreamer import graph as gephi_graph, streamer\n",
    "base = graph.fingerprints_df['Cc1cc2ccoc(=O)n2n1']\n",
    "gephi_nodes = [gephi_graph.Node(x, d=ChemicalSpaceGraph.similarity(graph.fingerprints_df[x], base)) for x in graph.nodes]"
   ]
  },
  {
   "cell_type": "code",
   "execution_count": 7,
   "metadata": {},
   "outputs": [],
   "source": [
    "def show(threshold, prefix='euclidean-'):\n",
    "    a = edges[edges[2] < threshold]\n",
    "    m = a[2].max()\n",
    "    f = lambda x: 1 - x / m\n",
    "    gephi_edges_ = [\n",
    "        gephi_graph.Edge(x, y, directed=False, weight=f(graph.edges[(x, y)]), label='%.4f' % graph.edges[(x, y)])\n",
    "        for x, y in graph.edges\n",
    "        if graph.edges[(x, y)] <= threshold\n",
    "    ]\n",
    "    print(len(gephi_edges_))\n",
    "    stream = streamer.Streamer(streamer.GephiWS(workspace='%s%s' % (prefix, threshold)))\n",
    "    stream.add_node(*gephi_nodes)\n",
    "    stream.add_edge(*gephi_edges_)\n",
    "    return gephi_edges_"
   ]
  },
  {
   "cell_type": "code",
   "execution_count": 13,
   "metadata": {},
   "outputs": [
    {
     "name": "stdout",
     "output_type": "stream",
     "text": [
      "3892\n"
     ]
    }
   ],
   "source": [
    "show(7.5);"
   ]
  },
  {
   "cell_type": "code",
   "execution_count": 16,
   "metadata": {},
   "outputs": [
    {
     "name": "stdout",
     "output_type": "stream",
     "text": [
      "5867\n"
     ]
    }
   ],
   "source": [
    "show(8.0);"
   ]
  },
  {
   "cell_type": "code",
   "execution_count": 9,
   "metadata": {},
   "outputs": [
    {
     "data": {
      "text/html": [
       "<div>\n",
       "<style scoped>\n",
       "    .dataframe tbody tr th:only-of-type {\n",
       "        vertical-align: middle;\n",
       "    }\n",
       "\n",
       "    .dataframe tbody tr th {\n",
       "        vertical-align: top;\n",
       "    }\n",
       "\n",
       "    .dataframe thead th {\n",
       "        text-align: right;\n",
       "    }\n",
       "</style>\n",
       "<table border=\"1\" class=\"dataframe\">\n",
       "  <thead>\n",
       "    <tr style=\"text-align: right;\">\n",
       "      <th></th>\n",
       "      <th>2</th>\n",
       "    </tr>\n",
       "  </thead>\n",
       "  <tbody>\n",
       "    <tr>\n",
       "      <th>count</th>\n",
       "      <td>3892.000000</td>\n",
       "    </tr>\n",
       "    <tr>\n",
       "      <th>mean</th>\n",
       "      <td>6.141213</td>\n",
       "    </tr>\n",
       "    <tr>\n",
       "      <th>std</th>\n",
       "      <td>1.311624</td>\n",
       "    </tr>\n",
       "    <tr>\n",
       "      <th>min</th>\n",
       "      <td>0.099779</td>\n",
       "    </tr>\n",
       "    <tr>\n",
       "      <th>25%</th>\n",
       "      <td>5.567368</td>\n",
       "    </tr>\n",
       "    <tr>\n",
       "      <th>50%</th>\n",
       "      <td>6.600449</td>\n",
       "    </tr>\n",
       "    <tr>\n",
       "      <th>75%</th>\n",
       "      <td>7.133457</td>\n",
       "    </tr>\n",
       "    <tr>\n",
       "      <th>max</th>\n",
       "      <td>7.498664</td>\n",
       "    </tr>\n",
       "  </tbody>\n",
       "</table>\n",
       "</div>"
      ],
      "text/plain": [
       "                 2\n",
       "count  3892.000000\n",
       "mean      6.141213\n",
       "std       1.311624\n",
       "min       0.099779\n",
       "25%       5.567368\n",
       "50%       6.600449\n",
       "75%       7.133457\n",
       "max       7.498664"
      ]
     },
     "execution_count": 9,
     "metadata": {},
     "output_type": "execute_result"
    }
   ],
   "source": [
    "edges7_5 = edges[edges[2] < 7.5]\n",
    "edges7_5.describe()"
   ]
  },
  {
   "cell_type": "code",
   "execution_count": 10,
   "metadata": {},
   "outputs": [
    {
     "data": {
      "text/html": [
       "<div>\n",
       "<style scoped>\n",
       "    .dataframe tbody tr th:only-of-type {\n",
       "        vertical-align: middle;\n",
       "    }\n",
       "\n",
       "    .dataframe tbody tr th {\n",
       "        vertical-align: top;\n",
       "    }\n",
       "\n",
       "    .dataframe thead th {\n",
       "        text-align: right;\n",
       "    }\n",
       "</style>\n",
       "<table border=\"1\" class=\"dataframe\">\n",
       "  <thead>\n",
       "    <tr style=\"text-align: right;\">\n",
       "      <th></th>\n",
       "      <th>0</th>\n",
       "      <th>1</th>\n",
       "      <th>2</th>\n",
       "    </tr>\n",
       "  </thead>\n",
       "  <tbody>\n",
       "    <tr>\n",
       "      <th>246995</th>\n",
       "      <td>Cc1nc2c[nH]c(=O)cc2o1</td>\n",
       "      <td>Cc1cc(=O)[nH]c2ncoc12</td>\n",
       "      <td>0.144342</td>\n",
       "    </tr>\n",
       "    <tr>\n",
       "      <th>259844</th>\n",
       "      <td>Cc1cc2ocnc2c(=O)[nH]1</td>\n",
       "      <td>Cc1cc2ncoc2c(=O)[nH]1</td>\n",
       "      <td>0.099779</td>\n",
       "    </tr>\n",
       "    <tr>\n",
       "      <th>698473</th>\n",
       "      <td>Cn1ncc2occc2c1=O</td>\n",
       "      <td>Cn1c(=O)ccc2oncc21</td>\n",
       "      <td>0.137231</td>\n",
       "    </tr>\n",
       "    <tr>\n",
       "      <th>817467</th>\n",
       "      <td>Cn1ncc2ccoc(=O)c21</td>\n",
       "      <td>Cn1cnc2ccoc(=O)c21</td>\n",
       "      <td>0.149188</td>\n",
       "    </tr>\n",
       "    <tr>\n",
       "      <th>837039</th>\n",
       "      <td>Cc1c[nH]c(=O)c2ncoc12</td>\n",
       "      <td>Cc1coc2c(=O)[nH]ncc12</td>\n",
       "      <td>0.624478</td>\n",
       "    </tr>\n",
       "  </tbody>\n",
       "</table>\n",
       "</div>"
      ],
      "text/plain": [
       "                            0                      1         2\n",
       "246995  Cc1nc2c[nH]c(=O)cc2o1  Cc1cc(=O)[nH]c2ncoc12  0.144342\n",
       "259844  Cc1cc2ocnc2c(=O)[nH]1  Cc1cc2ncoc2c(=O)[nH]1  0.099779\n",
       "698473       Cn1ncc2occc2c1=O     Cn1c(=O)ccc2oncc21  0.137231\n",
       "817467     Cn1ncc2ccoc(=O)c21     Cn1cnc2ccoc(=O)c21  0.149188\n",
       "837039  Cc1c[nH]c(=O)c2ncoc12  Cc1coc2c(=O)[nH]ncc12  0.624478"
      ]
     },
     "execution_count": 10,
     "metadata": {},
     "output_type": "execute_result"
    }
   ],
   "source": [
    "edges[edges[2] < 1]"
   ]
  },
  {
   "cell_type": "code",
   "execution_count": 14,
   "metadata": {},
   "outputs": [
    {
     "data": {
      "text/plain": [
       "count    1297.000000\n",
       "mean       13.682682\n",
       "std         6.455637\n",
       "min         0.000000\n",
       "25%        11.914106\n",
       "50%        13.658507\n",
       "75%        15.271275\n",
       "max       224.280176\n",
       "dtype: float64"
      ]
     },
     "execution_count": 14,
     "metadata": {},
     "output_type": "execute_result"
    }
   ],
   "source": [
    "ds = pd.Series([x.property['d'] for x in gephi_nodes])\n",
    "ds.describe()"
   ]
  },
  {
   "cell_type": "code",
   "execution_count": 19,
   "metadata": {},
   "outputs": [
    {
     "data": {
      "text/plain": [
       "[<matplotlib.lines.Line2D at 0x1f260915198>]"
      ]
     },
     "execution_count": 19,
     "metadata": {},
     "output_type": "execute_result"
    },
    {
     "data": {
      "image/png": "[encoded data removed]",
      "text/plain": [
       "<Figure size 432x288 with 1 Axes>"
      ]
     },
     "metadata": {
      "needs_background": "light"
     },
     "output_type": "display_data"
    }
   ],
   "source": [
    "ys = ds.sort_values()\n",
    "plt.plot(np.arange(len(ys)), ys, '.')"
   ]
  },
  {
   "cell_type": "code",
   "execution_count": 24,
   "metadata": {},
   "outputs": [],
   "source": [
    "strange_node = [x for x in gephi_nodes if x.property['d'] > 200][0]"
   ]
  },
  {
   "cell_type": "code",
   "execution_count": 29,
   "metadata": {},
   "outputs": [
    {
     "data": {
      "text/plain": [
       "{'O=c1[nH]ccn2c(O)ccc12': {'label': 'O=c1[nH]ccn2c(O)ccc12',\n",
       "  'size': 1,\n",
       "  'x': 0,\n",
       "  'y': 0,\n",
       "  'z': 0,\n",
       "  'r': 0.5,\n",
       "  'g': 0.5,\n",
       "  'b': 0.5,\n",
       "  'd': 224.28017629227156}}"
      ]
     },
     "execution_count": 29,
     "metadata": {},
     "output_type": "execute_result"
    }
   ],
   "source": [
    "strange_node.json()"
   ]
  },
  {
   "cell_type": "code",
   "execution_count": 32,
   "metadata": {},
   "outputs": [],
   "source": [
    "def plot_fp(*fps):\n",
    "    xs = np.arange(len(graph.fingerprints_df[fps[0]]))\n",
    "    for fp in fps:\n",
    "        plt.plot(xs, graph.fingerprints_df[fp], label=fp)\n",
    "    plt.legend()"
   ]
  },
  {
   "cell_type": "code",
   "execution_count": 38,
   "metadata": {},
   "outputs": [
    {
     "data": {
      "image/png": "[encoded data removed]",
      "text/plain": [
       "<Figure size 432x288 with 1 Axes>"
      ]
     },
     "metadata": {
      "needs_background": "light"
     },
     "output_type": "display_data"
    }
   ],
   "source": [
    "plot_fp('Cc1cc2ccoc(=O)n2n1', 'O=c1[nH]ccn2c(O)ccc12')"
   ]
  },
  {
   "cell_type": "code",
   "execution_count": 39,
   "metadata": {},
   "outputs": [],
   "source": [
    "# TODO: make it more consistent!"
   ]
  },
  {
   "cell_type": "code",
   "execution_count": null,
   "metadata": {},
   "outputs": [],
   "source": []
  }
 ],
 "metadata": {
  "kernelspec": {
   "display_name": "Python 3",
   "language": "python",
   "name": "python3"
  },
  "language_info": {
   "codemirror_mode": {
    "name": "ipython",
    "version": 3
   },
   "file_extension": ".py",
   "mimetype": "text/x-python",
   "name": "python",
   "nbconvert_exporter": "python",
   "pygments_lexer": "ipython3",
   "version": "3.6.6"
  }
 },
 "nbformat": 4,
 "nbformat_minor": 2
}
